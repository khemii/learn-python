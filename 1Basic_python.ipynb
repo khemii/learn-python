{
  "nbformat": 4,
  "nbformat_minor": 0,
  "metadata": {
    "colab": {
      "provenance": [],
      "authorship_tag": "ABX9TyNnmNMwniqqfO8F5neBR/h1",
      "include_colab_link": true
    },
    "kernelspec": {
      "name": "python3",
      "display_name": "Python 3"
    },
    "language_info": {
      "name": "python"
    }
  },
  "cells": [
    {
      "cell_type": "markdown",
      "metadata": {
        "id": "view-in-github",
        "colab_type": "text"
      },
      "source": [
        "<a href=\"https://colab.research.google.com/github/khemii/learn-python/blob/main/1Basic_python.ipynb\" target=\"_parent\"><img src=\"https://colab.research.google.com/assets/colab-badge.svg\" alt=\"Open In Colab\"/></a>"
      ]
    },
    {
      "cell_type": "code",
      "source": [
        "#print(\"Hello\\nWorld\") เว้นบรรทัด\n",
        "#int จำนวนเต็ม\n",
        "#float ทศนิยม\n",
        "#string ตัวอักษร: \"Hello\"\n",
        "#type() ตรวจสอบชนิดข้อมูล\n",
        "\n",
        "#output\n",
        "print(type(\"15 + 2\")) #string\n",
        "print(type(15 + 2)) #int\n",
        "print(type(2.22 * 8)) #float\n",
        "print(\"15\" + \"2\") #string เชื่อมกันได้\n",
        "print(\"15\" * 2) #ทำซ้ำ str"
      ],
      "metadata": {
        "id": "WuoP6A7fwQaO"
      },
      "execution_count": null,
      "outputs": []
    },
    {
      "cell_type": "code",
      "source": [
        "#input\n",
        "a = input(\"What is your name: \")\n",
        "print(type(a))\n",
        "\n",
        "#age = int(input(\"How old are you?\")) -> int\n",
        "a = int(input())\n",
        "b = int(input())\n",
        "print(a+b)"
      ],
      "metadata": {
        "id": "8XMrNxLaz1QJ"
      },
      "execution_count": null,
      "outputs": []
    },
    {
      "cell_type": "code",
      "source": [
        "a = \"Hello\"\n",
        "print(\"%s\" % a) #เอาตัวแปร a มาแสดงแทนที่ str\n",
        "print(\"%s, %s %s\" % (\"Hello\", \"Python\", \"is easy\")) #เอา str มาแสดงแทนที่ %s\n",
        "a = 10\n",
        "print(\"a is %d\" % a) #เอาตัวแปร a มาแสดงแทนที่ %d(จำนวนเต็ม)\n",
        "b = 5\n",
        "print(\"b is %.2f\" % b) #เอาตัวแปร b มาแสดงแทน .2f 2 ตน.\n",
        "\n",
        "a = 5\n",
        "b = 10\n",
        "print(\"a = %d and b = %d\" % (a,b))"
      ],
      "metadata": {
        "id": "d7PGIg6E0jzS",
        "colab": {
          "base_uri": "https://localhost:8080/"
        },
        "outputId": "557f2da2-bd73-4b09-b340-a7833fd31b0a"
      },
      "execution_count": null,
      "outputs": [
        {
          "output_type": "stream",
          "name": "stdout",
          "text": [
            "Hello\n",
            "Hello, Python is easy\n",
            "a is 10\n",
            "b is 5.00\n",
            "a = 5 and b = 10\n"
          ]
        }
      ]
    },
    {
      "cell_type": "code",
      "source": [
        "#Homework\n",
        "a = int(input())\n",
        "b = int(input())\n",
        "c = int(input())\n",
        "print(\"%d %d %d\" % (a,b,c))"
      ],
      "metadata": {
        "colab": {
          "base_uri": "https://localhost:8080/"
        },
        "id": "ZahfTqwyxAsp",
        "outputId": "7530619a-8b00-46cf-eb81-9c8662742832"
      },
      "execution_count": null,
      "outputs": [
        {
          "output_type": "stream",
          "name": "stdout",
          "text": [
            "11\n",
            "22\n",
            "38\n",
            "11 22 38\n"
          ]
        }
      ]
    },
    {
      "cell_type": "code",
      "execution_count": null,
      "metadata": {
        "colab": {
          "base_uri": "https://localhost:8080/"
        },
        "id": "md_hldPFuBJw",
        "outputId": "85751103-0079-46ce-856c-65d99d0c8eb3"
      },
      "outputs": [
        {
          "output_type": "stream",
          "name": "stdout",
          "text": [
            "Cost: 50\n",
            "Profit: 10\n",
            "You should sell 55.56 baht\n"
          ]
        }
      ],
      "source": [
        "#โปรแกรมคิดราคาขาย\n",
        "cost = float(input(\"Cost: \"))\n",
        "profit = int(input(\"Profit: \"))\n",
        "cal = (cost/(100-profit)) * 100\n",
        "print(\"You should sell %.2f baht\" % cal)"
      ]
    },
    {
      "cell_type": "code",
      "source": [
        "#practise unit 4\n",
        "\n",
        "a = 25\n",
        "b = 1253.59845\n",
        "c = \"python\"\n",
        "print(\"Hello %s programming\" % c)\n",
        "print(\"a = %d\" % a)\n",
        "print(\"b = %d\" %b)\n",
        "print(\"%s is easy\" %c)\n",
        "print(\"%d\" %(b-100))\n",
        "print(\"b = %f\" %b)\n",
        "print(\"a = %f\" %a)\n",
        "print(\"b = %.2f\" %b)\n",
        "print(\"%d %.2f\" %(a,b))\n",
        "print(\"%.3f\" %(b-a))\n"
      ],
      "metadata": {
        "id": "p0MBZWCQ1D8r",
        "colab": {
          "base_uri": "https://localhost:8080/"
        },
        "outputId": "831f0091-6d34-4268-f483-76e07385c296"
      },
      "execution_count": null,
      "outputs": [
        {
          "output_type": "stream",
          "name": "stdout",
          "text": [
            "Hello python programming\n",
            "a = 25\n",
            "b = 1253\n",
            "python is easy\n",
            "1153\n",
            "b = 1253.598450\n",
            "a = 25.000000\n",
            "b = 1253.60\n",
            "25 1253.60\n",
            "1228.598\n"
          ]
        }
      ]
    },
    {
      "cell_type": "code",
      "source": [
        "print(\"Hello World\")\n",
        "print(\"\\\"I don't have a car\\\"\")\n",
        "print(\"You got a new job!?\",\"That's so exciting\")\n",
        "print(\"a\\nan\\nant\")\n",
        "print(\"\"\"a\n",
        "an\n",
        "ant\"\"\")\n",
        "print(\"Just because something\\nthinks differently from you,\\ndoes that mean it's not thinking?\")"
      ],
      "metadata": {
        "colab": {
          "base_uri": "https://localhost:8080/"
        },
        "id": "Tg_64960ACqz",
        "outputId": "69ff6599-c5b7-441b-b064-f1843429841f"
      },
      "execution_count": null,
      "outputs": [
        {
          "output_type": "stream",
          "name": "stdout",
          "text": [
            "Hello World\n",
            "\"I don't have a car\"\n",
            "You got a new job!? That's so exciting\n",
            "a\n",
            "an\n",
            "ant\n",
            "a\n",
            "an\n",
            "ant\n",
            "Just because something\n",
            "thinks differently from you,\n",
            "does that mean it's not thinking?\n"
          ]
        }
      ]
    },
    {
      "cell_type": "code",
      "source": [
        "a = 12.5\n",
        "a"
      ],
      "metadata": {
        "colab": {
          "base_uri": "https://localhost:8080/"
        },
        "id": "fioh_Pd5DjM8",
        "outputId": "ed3ea0f5-2d7f-4877-c619-a2357ede434f"
      },
      "execution_count": null,
      "outputs": [
        {
          "output_type": "execute_result",
          "data": {
            "text/plain": [
              "12.5"
            ]
          },
          "metadata": {},
          "execution_count": 15
        }
      ]
    },
    {
      "cell_type": "code",
      "source": [
        "a = 2\n",
        "b = 3\n",
        "print(\"%d x %d = %d\" %(a,b,(a * b)))"
      ],
      "metadata": {
        "colab": {
          "base_uri": "https://localhost:8080/"
        },
        "id": "HPZ1bQ_UDvR1",
        "outputId": "d3e93b74-12de-493d-9f54-abf6699b3a1c"
      },
      "execution_count": null,
      "outputs": [
        {
          "output_type": "stream",
          "name": "stdout",
          "text": [
            "2 x 3 = 6\n"
          ]
        }
      ]
    },
    {
      "cell_type": "code",
      "source": [
        "a = 2.4\n",
        "b = 2.5\n",
        "print(\"%.1f + %.1f = %.4f\" %(a,b,(a + b)))"
      ],
      "metadata": {
        "colab": {
          "base_uri": "https://localhost:8080/"
        },
        "id": "ONf3nz7pEKKn",
        "outputId": "227ea414-cb29-47dd-b2d3-37f3717dffde"
      },
      "execution_count": null,
      "outputs": [
        {
          "output_type": "stream",
          "name": "stdout",
          "text": [
            "2.4 + 2.5 = 4.9000\n"
          ]
        }
      ]
    },
    {
      "cell_type": "code",
      "source": [
        "a = 5.00\n",
        "b = 2.00\n",
        "print(\"%.2f - %.2f = %.4f\" %(a, b, (a-b)))"
      ],
      "metadata": {
        "colab": {
          "base_uri": "https://localhost:8080/"
        },
        "id": "3-7Sanb0EeXc",
        "outputId": "c9335b33-05f8-4ce0-e070-00a37a712f0b"
      },
      "execution_count": null,
      "outputs": [
        {
          "output_type": "stream",
          "name": "stdout",
          "text": [
            "5.00 - 2.00 = 3.0000\n"
          ]
        }
      ]
    },
    {
      "cell_type": "code",
      "source": [
        "birthday = 25\n",
        "print(\"ฉันเกิดวันที่ %d\" %birthday)"
      ],
      "metadata": {
        "colab": {
          "base_uri": "https://localhost:8080/"
        },
        "id": "1c7nnApVHOHY",
        "outputId": "82f255df-0090-4490-e28e-23802e1a1cdb"
      },
      "execution_count": null,
      "outputs": [
        {
          "output_type": "stream",
          "name": "stdout",
          "text": [
            "ฉันเกิดวันที่ 25\n"
          ]
        }
      ]
    },
    {
      "cell_type": "code",
      "source": [
        "a = 5\n",
        "b = 100\n",
        "print(\"%d เท่าของ %d มีค่าเท่ากับ %d\" %(a,b,(a*b)))"
      ],
      "metadata": {
        "colab": {
          "base_uri": "https://localhost:8080/"
        },
        "id": "ljgjHNpPHlPl",
        "outputId": "5ee48e75-d5e9-49d8-a2a4-a40bb470697a"
      },
      "execution_count": null,
      "outputs": [
        {
          "output_type": "stream",
          "name": "stdout",
          "text": [
            "5 เท่าของ 100 มีค่าเท่ากับ 500\n"
          ]
        }
      ]
    },
    {
      "cell_type": "code",
      "source": [
        "print(\"Good morning\")"
      ],
      "metadata": {
        "colab": {
          "base_uri": "https://localhost:8080/"
        },
        "id": "cMEcRzTEIG8a",
        "outputId": "43a41526-f7d9-4f7c-cb39-35f1633f815a"
      },
      "execution_count": null,
      "outputs": [
        {
          "output_type": "stream",
          "name": "stdout",
          "text": [
            "Good morning\n"
          ]
        }
      ]
    },
    {
      "cell_type": "code",
      "source": [
        "print(\"*\\n**\\n***\")"
      ],
      "metadata": {
        "colab": {
          "base_uri": "https://localhost:8080/"
        },
        "id": "PClm48lCIbgJ",
        "outputId": "5927ae69-c5e1-4683-f9ec-7a2414cd5caf"
      },
      "execution_count": null,
      "outputs": [
        {
          "output_type": "stream",
          "name": "stdout",
          "text": [
            "*\n",
            "**\n",
            "***\n"
          ]
        }
      ]
    },
    {
      "cell_type": "code",
      "source": [
        "num1 = int(input(\"ตัวเลขที่ 1: \"))\n",
        "num2 = int(input(\"ตัวเลขที่ 2: \"))\n",
        "result = num1 + num2\n",
        "print(\"ผลรวมของสองตัวเลข= %d\" %result)"
      ],
      "metadata": {
        "colab": {
          "base_uri": "https://localhost:8080/"
        },
        "id": "A2aL4BvVIj7y",
        "outputId": "24116d78-e449-46fd-b0f1-5425b42ed5ba"
      },
      "execution_count": null,
      "outputs": [
        {
          "output_type": "stream",
          "name": "stdout",
          "text": [
            "ตัวเลขที่ 1: 99\n",
            "ตัวเลขที่ 2: 65\n",
            "ผลรวมของสองตัวเลข= 164\n"
          ]
        }
      ]
    },
    {
      "cell_type": "code",
      "source": [
        "x = input()\n",
        "y = int(input())\n",
        "print(x*y)"
      ],
      "metadata": {
        "colab": {
          "base_uri": "https://localhost:8080/"
        },
        "id": "6AGNZAmbJXrx",
        "outputId": "e04b5e3f-e74d-4ad3-da80-79c37d0f988f"
      },
      "execution_count": null,
      "outputs": [
        {
          "output_type": "stream",
          "name": "stdout",
          "text": [
            "*\n",
            "3\n",
            "***\n"
          ]
        }
      ]
    },
    {
      "cell_type": "code",
      "source": [
        "a = int(input())\n",
        "b = int(input())\n",
        "c = int(input())\n",
        "avg = (a+b+c)/3\n",
        "print(\"ค่าเฉลี่ย= %.2f\" %avg)"
      ],
      "metadata": {
        "colab": {
          "base_uri": "https://localhost:8080/"
        },
        "id": "cNM2ETvjK-4J",
        "outputId": "04b3671f-e6d0-4e28-d295-5845b178310a"
      },
      "execution_count": null,
      "outputs": [
        {
          "output_type": "stream",
          "name": "stdout",
          "text": [
            "56\n",
            "23\n",
            "78\n",
            "ค่าเฉลี่ย= 52.33\n"
          ]
        }
      ]
    },
    {
      "cell_type": "code",
      "source": [
        "weight = int(input(\"น้ำหนัก= \"))\n",
        "height = int(input(\"ส่วนสูง= \"))\n",
        "print(\"ข้อมูลนำ้หนักและส่วนสูง: %d %d\" %(weight,height))"
      ],
      "metadata": {
        "colab": {
          "base_uri": "https://localhost:8080/"
        },
        "id": "0oFyO8GWLpOo",
        "outputId": "fd282c0b-c170-4cd9-c87d-06db653a10c0"
      },
      "execution_count": null,
      "outputs": [
        {
          "output_type": "stream",
          "name": "stdout",
          "text": [
            "น้ำหนัก= 45\n",
            "ส่วนสูง= 162\n",
            "ข้อมูลนำ้หนักและส่วนสูง: 45 162\n"
          ]
        }
      ]
    },
    {
      "cell_type": "code",
      "source": [
        "text = input()\n",
        "print(\"You Press %s\" %text)"
      ],
      "metadata": {
        "colab": {
          "base_uri": "https://localhost:8080/"
        },
        "id": "ukHmWqHmM2xj",
        "outputId": "5b6c4e72-3f98-4ad0-f1cd-150b5b114d96"
      },
      "execution_count": null,
      "outputs": [
        {
          "output_type": "stream",
          "name": "stdout",
          "text": [
            "A\n",
            "You Press A\n"
          ]
        }
      ]
    },
    {
      "cell_type": "code",
      "source": [
        "m = int(input())\n",
        "n = int(input())\n",
        "result = m-n\n",
        "print(result)"
      ],
      "metadata": {
        "colab": {
          "base_uri": "https://localhost:8080/"
        },
        "id": "Uv9A3imRNZQ1",
        "outputId": "609bb69c-4138-41a8-8f2f-c61131f23a3e"
      },
      "execution_count": null,
      "outputs": [
        {
          "output_type": "stream",
          "name": "stdout",
          "text": [
            "74\n",
            "24\n",
            "50\n"
          ]
        }
      ]
    },
    {
      "cell_type": "code",
      "source": [
        "name = input(\"Enter your first name: \")\n",
        "lname = input(\"Enter your last name: \")\n",
        "age = int(input(\"Enter your age: \"))\n",
        "print(\"Hello %s %s\\nYou're %d years old\" %(name,lname,age))"
      ],
      "metadata": {
        "colab": {
          "base_uri": "https://localhost:8080/"
        },
        "id": "m07avuiVOOmf",
        "outputId": "85998466-741b-4881-ca4e-c4848f47a513"
      },
      "execution_count": null,
      "outputs": [
        {
          "output_type": "stream",
          "name": "stdout",
          "text": [
            "Enter your first name: Selena\n",
            "Enter your last name: Gomez\n",
            "Enter your age: 20\n",
            "Hello Selena Gomez\n",
            "You're 20 years old\n"
          ]
        }
      ]
    },
    {
      "cell_type": "code",
      "source": [
        "#คิดราคาสินค้า\n",
        "price = float(input(\"Price: \"))\n",
        "discount = int(input(\"Discount(%): \"))\n",
        "discount_baht = discount/100*price\n",
        "payment = price - discount_baht\n",
        "print(\"Discount(Baht): %d\" %discount_baht)\n",
        "print(\"Payment(Baht): %d\" %payment)"
      ],
      "metadata": {
        "colab": {
          "base_uri": "https://localhost:8080/"
        },
        "id": "dSZRnGrN8a6X",
        "outputId": "3581e195-17af-43bd-8f82-ba4163e5a840"
      },
      "execution_count": null,
      "outputs": [
        {
          "output_type": "stream",
          "name": "stdout",
          "text": [
            "Price: 250\n",
            "Discount(%): 20\n",
            "Discount(Baht): 50\n",
            "Payment(Baht): 200\n"
          ]
        }
      ]
    },
    {
      "cell_type": "code",
      "source": [
        "'''practise unit 5\n",
        "c = float(input(\"Temperature(celcius): \"))\n",
        "print(\"%f %f\" %((9/5)*c + 32,c +273.15))'''\n",
        "\n",
        "c = float(input())\n",
        "f = 9/5 * c + 32\n",
        "k = c + 273.15\n",
        "print(\"%f %f\" %(f,k))"
      ],
      "metadata": {
        "colab": {
          "base_uri": "https://localhost:8080/"
        },
        "id": "q438hk-v84XE",
        "outputId": "8cadcc84-777f-48ad-97a2-f1e553022ded"
      },
      "execution_count": null,
      "outputs": [
        {
          "output_type": "stream",
          "name": "stdout",
          "text": [
            "25\n",
            "77.000000 298.150000\n"
          ]
        }
      ]
    },
    {
      "cell_type": "code",
      "source": [
        "base = float(input(\"ค่าฐานสามเหลี่ยม: \"))\n",
        "height = float(input(\"ค่าความสูงสามเหลี่ยม: \"))\n",
        "#print(\"%f\" %(1/2 * base * height))\n",
        "area = 1/2 * base * height\n",
        "print(\"%f\" %area)"
      ],
      "metadata": {
        "colab": {
          "base_uri": "https://localhost:8080/"
        },
        "id": "5oTu6E9qDyhJ",
        "outputId": "cb57a320-c5bf-44d8-a259-25d0b49f5eed"
      },
      "execution_count": null,
      "outputs": [
        {
          "output_type": "stream",
          "name": "stdout",
          "text": [
            "ค่าฐานสามเหลี่ยม: 0.25\n",
            "ค่าความสูงสามเหลี่ยม: 5\n",
            "0.625000\n"
          ]
        }
      ]
    },
    {
      "cell_type": "code",
      "source": [
        "#practice unit 6\n",
        "a = int(input())\n",
        "b = int(input())\n",
        "add = a+b\n",
        "concat = str(a)+str(b)\n",
        "print(\"Addition: %d\" %(a+b))\n",
        "print(\"Concatenation: %s\" %concat)"
      ],
      "metadata": {
        "id": "ses2rupRG0NX",
        "colab": {
          "base_uri": "https://localhost:8080/"
        },
        "outputId": "1414976f-5ce7-41dd-f713-5717296e35ab"
      },
      "execution_count": null,
      "outputs": [
        {
          "output_type": "stream",
          "name": "stdout",
          "text": [
            "11\n",
            "18\n",
            "Addition: 29\n",
            "Concatenation: 1118\n"
          ]
        }
      ]
    },
    {
      "cell_type": "code",
      "source": [
        "midterm = float(input())\n",
        "final = float(input())\n",
        "total = midterm + final\n",
        "avg = total/2\n",
        "print(\"Total: %.1f\" %total)\n",
        "print(\"Average: %.1f\" %avg)"
      ],
      "metadata": {
        "colab": {
          "base_uri": "https://localhost:8080/"
        },
        "id": "ASGS5VoYMxPM",
        "outputId": "da70dfe3-cc7b-46f5-ecdc-e667e7056d3c"
      },
      "execution_count": null,
      "outputs": [
        {
          "output_type": "stream",
          "name": "stdout",
          "text": [
            "50.5\n",
            "31.5\n",
            "Total: 82.0\n",
            "Average: 41.0\n"
          ]
        }
      ]
    },
    {
      "cell_type": "code",
      "source": [
        "width = float(input(\"Enter width: \"))\n",
        "length = float(input(\"Enter length: \"))\n",
        "depth = float(input(\"Enter depth: \"))\n",
        "area = width * length * depth\n",
        "time = (area * 15)/60\n",
        "print(\"Time to fill a pool is %.2f minutes.\" %time)"
      ],
      "metadata": {
        "colab": {
          "base_uri": "https://localhost:8080/"
        },
        "id": "3Fcy_0tCPCOA",
        "outputId": "5f34d7ec-e655-4aa8-9971-41fa1cc2ddfc"
      },
      "execution_count": null,
      "outputs": [
        {
          "output_type": "stream",
          "name": "stdout",
          "text": [
            "Enter width: 18.5\n",
            "Enter length: 38.75\n",
            "Enter depth: 1.35\n",
            "Time to fill a pool is 241.95 minutes\n"
          ]
        }
      ]
    },
    {
      "cell_type": "code",
      "source": [
        "n = int(input())\n",
        "str1 = input()\n",
        "str2 = input()\n",
        "text1 = n % 2 #เลขคี่ str1 จะหายไปตัวนึง ต้องหารเอาเศษเพราะเลขคี่หาร 2 ไม่ลงตัวเหลือเศษ 1 จะแสดงstr1 1 ตัว\n",
        "result = (str1+str2) * (n // 2) + (str1 * text1) # n//2 แสดงสลับกันได้ปกติถ้าเป็นเลขคู่\n",
        "\n",
        "print(result)"
      ],
      "metadata": {
        "colab": {
          "base_uri": "https://localhost:8080/"
        },
        "id": "GHtM_nEEc86a",
        "outputId": "6b35fda5-907e-40e2-d346-dde340120ad0"
      },
      "execution_count": null,
      "outputs": [
        {
          "output_type": "stream",
          "name": "stdout",
          "text": [
            "5\n",
            "$\n",
            "#\n",
            "$#$#$\n"
          ]
        }
      ]
    },
    {
      "cell_type": "code",
      "source": [
        "print(\"First fraction: \")\n",
        "a = int(input(\">>Enter a numerator a: \"))\n",
        "b = int(input(\">>Enter a denominator b: \"))\n",
        "\n",
        "print(\"Second fraction: \")\n",
        "c = int(input(\">>Enter a numerator c: \"))\n",
        "d = int(input(\">>Enter a denominator d: \"))\n",
        "\n",
        "numerator = (a * d) + (b * c)\n",
        "denominator = (b * d)\n",
        "\n",
        "print(\"Summation of the two fractions is %d/%d\" %(numerator,denominator))\n"
      ],
      "metadata": {
        "colab": {
          "base_uri": "https://localhost:8080/"
        },
        "id": "uEYPzt-ddqaP",
        "outputId": "0ce197b7-3571-44c1-8287-2efa70b57f5d"
      },
      "execution_count": null,
      "outputs": [
        {
          "output_type": "stream",
          "name": "stdout",
          "text": [
            "First fraction: \n",
            ">>Enter a numerator a: 3\n",
            ">>Enter a denominator b: 8\n",
            "Second fraction: \n",
            ">>Enter a numerator c: 9\n",
            ">>Enter a denominator d: 12\n",
            "Summation of the two fractions is 108/96\n"
          ]
        }
      ]
    },
    {
      "cell_type": "code",
      "source": [
        "s1 = int(input(\"Enter your exercise time1: \"))\n",
        "s2 = int(input(\"Enter your exercise time2: \"))\n",
        "total_s = s1 + s2\n",
        "minutes = total_s // 60\n",
        "hours = minutes // 60\n",
        "seconds = total_s % 60\n",
        "print(\"It is %d hours %d minutes and %d seconds\" %(hours,minutes,seconds))\n",
        "\n",
        "'''\n",
        "hour = total_s // 3600\n",
        "minute = (total_s % 3600) // 60\n",
        "second = (total_s % 3600) % 60\n",
        "'''"
      ],
      "metadata": {
        "colab": {
          "base_uri": "https://localhost:8080/",
          "height": 88
        },
        "id": "AZRozbuhiPVY",
        "outputId": "6d2aa796-d101-4b74-f27d-e26786a6136a"
      },
      "execution_count": null,
      "outputs": [
        {
          "output_type": "stream",
          "name": "stdout",
          "text": [
            "Enter your exercise time1: 345\n",
            "Enter your exercise time2: 440\n",
            "It is 0 hours 13 minutes and 5 seconds\n"
          ]
        },
        {
          "output_type": "execute_result",
          "data": {
            "text/plain": [
              "'\\nhour = total_s // 3600\\nminute = (total_s % 3600) // 60\\nsecond = (total_s % 3600) % 60\\n'"
            ],
            "application/vnd.google.colaboratory.intrinsic+json": {
              "type": "string"
            }
          },
          "metadata": {},
          "execution_count": 6
        }
      ]
    },
    {
      "cell_type": "code",
      "source": [
        "import math\n",
        "print(math.sqrt(16))\n",
        "print(math.ceil(5.4)) #ปัดขึ้น\n",
        "print(math.floor(8.99)) #แสดงแค่เลขจำนวนเต็ม\n",
        "#y = math.sqrt(16 - 4 * x) สมการคณิต\n"
      ],
      "metadata": {
        "colab": {
          "base_uri": "https://localhost:8080/"
        },
        "id": "eOz4pQzrsYI_",
        "outputId": "f3d7b617-31e5-4b9f-ece8-f0a2d848b1d2"
      },
      "execution_count": null,
      "outputs": [
        {
          "output_type": "stream",
          "name": "stdout",
          "text": [
            "4.0\n",
            "6\n",
            "8\n"
          ]
        }
      ]
    },
    {
      "cell_type": "code",
      "source": [
        "#practice unit 8\n",
        "abs(15-50)\n",
        "pow(4,2)\n",
        "math.pow(3,3)\n",
        "pow(3,3)\n",
        "\n",
        "import math\n",
        "a = int(input())\n",
        "result = abs(a)\n",
        "print(result)"
      ],
      "metadata": {
        "colab": {
          "base_uri": "https://localhost:8080/"
        },
        "id": "AJJuEK4UkTjM",
        "outputId": "701a6a11-7cbd-4d1d-d30b-1deed96a8c0a"
      },
      "execution_count": null,
      "outputs": [
        {
          "output_type": "stream",
          "name": "stdout",
          "text": [
            "-15\n",
            "15\n"
          ]
        }
      ]
    },
    {
      "cell_type": "code",
      "source": [
        "b = float(input())\n",
        "result = math.ceil(abs(b))\n",
        "print(result)"
      ],
      "metadata": {
        "colab": {
          "base_uri": "https://localhost:8080/"
        },
        "id": "BCy1i2nOnioA",
        "outputId": "625a1b3a-68ea-4b14-e3ca-fae4982a57d8"
      },
      "execution_count": null,
      "outputs": [
        {
          "output_type": "stream",
          "name": "stdout",
          "text": [
            "-15.6\n",
            "16\n"
          ]
        }
      ]
    },
    {
      "cell_type": "code",
      "source": [
        "r = int(input(\"Enter a radius: \"))\n",
        "area = math.pi * math.pow(r,2) #พายอาร์^2\n",
        "circumference = 2 * math.pi * r #2พายอาร์\n",
        "print(\"Area of a circle with radius %d is %.2f\" %(r,area))\n",
        "print(\"Circumference of a circle with radius %d is %.2f\" %(r,circumference))"
      ],
      "metadata": {
        "colab": {
          "base_uri": "https://localhost:8080/"
        },
        "id": "d_1cgt4Gn-yY",
        "outputId": "a1f89611-caa7-4e33-d30a-af2dad1476c8"
      },
      "execution_count": null,
      "outputs": [
        {
          "output_type": "stream",
          "name": "stdout",
          "text": [
            "Enter a radius: 3\n",
            "Area of a circle with radius 3 is 28.27\n",
            "Circumference of a circle with radius 3 is 18.85\n"
          ]
        }
      ]
    },
    {
      "cell_type": "code",
      "source": [
        "print(15 == 2)\n",
        "print(not(15 == 2))\n",
        "print(bool(200)) #ไม่ใช่ 0,\"\" จะจริง\n",
        "print(bool(\" \")) #space = true"
      ],
      "metadata": {
        "colab": {
          "base_uri": "https://localhost:8080/"
        },
        "id": "N9w1nQwsplXU",
        "outputId": "9e1b66b0-bfe5-4bc5-e32d-a2f2175d0001"
      },
      "execution_count": null,
      "outputs": [
        {
          "output_type": "stream",
          "name": "stdout",
          "text": [
            "False\n",
            "True\n",
            "True\n",
            "True\n"
          ]
        }
      ]
    },
    {
      "cell_type": "code",
      "source": [
        "#practice unit 9\n",
        "\n",
        "a = int(input(\"a = \"))\n",
        "b = int(input(\"b = \"))\n",
        "temp = a #ตัวแปร temp ไว้พักชัวคราว\n",
        "a = b\n",
        "b = temp\n",
        "print(a)\n",
        "print(b)\n",
        "\n"
      ],
      "metadata": {
        "colab": {
          "base_uri": "https://localhost:8080/"
        },
        "id": "mSAAt2pOvF6j",
        "outputId": "6a93c5ad-e87e-4d5a-e2d3-8de5dafe7260"
      },
      "execution_count": null,
      "outputs": [
        {
          "output_type": "stream",
          "name": "stdout",
          "text": [
            "10\n",
            "20\n",
            "20\n",
            "10\n"
          ]
        }
      ]
    },
    {
      "cell_type": "markdown",
      "source": [
        "# ส่วนใหม่"
      ],
      "metadata": {
        "id": "Cp1xD9E9HMki"
      }
    },
    {
      "cell_type": "code",
      "source": [
        "from google.colab import drive\n",
        "drive.mount('/content/drive')"
      ],
      "metadata": {
        "id": "MAuCSCSGHU0z"
      },
      "execution_count": null,
      "outputs": []
    },
    {
      "cell_type": "code",
      "source": [
        "# if-else\n",
        "n = int(input())\n",
        "if n % 2 == 0:\n",
        "  print(\"%d is even\" % n)\n",
        "else:                     #no condition\n",
        "  print(\"%d is odd\" % n)"
      ],
      "metadata": {
        "colab": {
          "base_uri": "https://localhost:8080/"
        },
        "id": "E5972F5kFTnJ",
        "outputId": "c58844c2-fb2f-4904-b52f-99c41e1be636"
      },
      "execution_count": null,
      "outputs": [
        {
          "output_type": "stream",
          "name": "stdout",
          "text": [
            "55\n",
            "55 is odd\n"
          ]
        }
      ]
    },
    {
      "cell_type": "code",
      "source": [
        "# if-elif(ต้องใส่เงื่อนไข)\n",
        "n = int(input())\n",
        "if n % 2 == 0:\n",
        "  print(\"%d is even\" % n)\n",
        "elif n % 2 != 0:\n",
        "  print(\"%d is odd\" % n)"
      ],
      "metadata": {
        "id": "Pso3BtHMIAcc"
      },
      "execution_count": null,
      "outputs": []
    },
    {
      "cell_type": "code",
      "source": [
        "#Nested if: ซ้อนกันเยอะๆ\n",
        "\n",
        "salary = int(input())\n",
        "if salary >= 15000:\n",
        "  if salary < 70000:\n",
        "    print(\"Silver card\")\n",
        "  elif salary < 100000:\n",
        "    print(\"Gold card\")\n",
        "  elif salary >= 100000:\n",
        "    print(\"Platinum card\")\n",
        "else:\n",
        "  print(\"No\")"
      ],
      "metadata": {
        "colab": {
          "base_uri": "https://localhost:8080/"
        },
        "id": "xZ_tmGCZI8Ut",
        "outputId": "b2c8e72d-1990-4ce1-dddc-b348d084f1b7"
      },
      "execution_count": null,
      "outputs": [
        {
          "output_type": "stream",
          "name": "stdout",
          "text": [
            "12000\n",
            "No\n"
          ]
        }
      ]
    },
    {
      "cell_type": "code",
      "source": [
        "size = int(input())\n",
        "if size <= 34:\n",
        "  print(\"XS\")\n",
        "elif size <= 36:\n",
        "  print(\"S\")\n",
        "elif size <= 38:\n",
        "  print(\"M\")\n",
        "elif size <= 40:\n",
        "  print(\"L\")\n",
        "else:\n",
        "  print(\"XL\")"
      ],
      "metadata": {
        "colab": {
          "base_uri": "https://localhost:8080/"
        },
        "id": "noGJHUgNLJkW",
        "outputId": "d0c4543c-e647-4004-fffc-ebe47a7c23d6"
      },
      "execution_count": null,
      "outputs": [
        {
          "output_type": "stream",
          "name": "stdout",
          "text": [
            "33\n",
            "XS\n"
          ]
        }
      ]
    },
    {
      "cell_type": "code",
      "source": [
        "''' 4 seasons=\n",
        "winter(month 1,2,3)\n",
        "spring(month 4,5,6)\n",
        "summer(month 7,8,9)\n",
        "fall(month 10,11,12)\n",
        "ฤดูเปลี่ยนหลังวันที่ 21 ของเดือนที่หาร 3 ลงตัว เขียนโปรแกรมเพื่อรับเดือนและวันที่ outputแสดงฤดู\n",
        "'''\n"
      ],
      "metadata": {
        "id": "G3wtqMzdP2fQ"
      },
      "execution_count": null,
      "outputs": []
    },
    {
      "cell_type": "code",
      "source": [
        "month = int(input())\n",
        "date = int(input())\n",
        "\n",
        "if month % 3 == 0: #หารลงตัวเศษเป็น 0\n",
        "  if date < 21:\n",
        "    if month == 1 or month == 2 or month == 3:\n",
        "      print(\"Winter\")\n",
        "    elif month == 4 or month == 5 or month == 6:\n",
        "      print(\"Spring\")\n",
        "    elif month == 7 or month == 8 or month == 9:\n",
        "      print(\"Summer\")\n",
        "    elif month == 10 or month == 11 or month == 12:\n",
        "      print(\"Fall\")\n",
        "  else:         # date >= 21\n",
        "    if month == 1 or month == 2 or month == 3:\n",
        "      print(\"Spring\")\n",
        "    elif month == 4 or month == 5 or month == 6:\n",
        "      print(\"Summer\")\n",
        "    elif month == 7 or month == 8 or month == 9:\n",
        "      print(\"Fall\")\n",
        "    elif month == 10 or month == 11 or month == 12:\n",
        "      print(\"Winter\")\n",
        "else:     # month หาร 3 ไม่ลงตัว\n",
        "  if month == 1 or month == 2 or month == 3:\n",
        "      print(\"Winter\")\n",
        "  elif month == 4 or month == 5 or month == 6:\n",
        "      print(\"Spring\")\n",
        "  elif month == 7 or month == 8 or month == 9:\n",
        "      print(\"Summer\")\n",
        "  elif month == 10 or month == 11 or month == 12:\n",
        "      print(\"Fall\")"
      ],
      "metadata": {
        "colab": {
          "base_uri": "https://localhost:8080/"
        },
        "id": "CnBPc-6yRhfs",
        "outputId": "103b56dd-cd44-42d8-f5e1-1fb32aa8b1e1"
      },
      "execution_count": null,
      "outputs": [
        {
          "output_type": "stream",
          "name": "stdout",
          "text": [
            "1\n",
            "21\n",
            "Winter\n"
          ]
        }
      ]
    },
    {
      "cell_type": "code",
      "source": [],
      "metadata": {
        "id": "XGm4kHkRUqIF"
      },
      "execution_count": null,
      "outputs": []
    }
  ]
}